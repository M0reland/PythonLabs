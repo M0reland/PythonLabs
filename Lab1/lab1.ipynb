{
 "cells": [
  {
   "cell_type": "markdown",
   "metadata": {},
   "source": [
    "1. Напишите скрипт, который преобразует введенное с клавиатуры\n",
    "вещественное число в денежный формат. Например, число 12,5 должно\n",
    "быть преобразовано к виду «12 руб. 50 коп.». В случае ввода\n",
    "отрицательного числа выдайте сообщение «Некорректный формат!»\n",
    "путем обработки исключения в коде"
   ]
  },
  {
   "cell_type": "code",
   "execution_count": 10,
   "metadata": {},
   "outputs": [
    {
     "name": "stdout",
     "output_type": "stream",
     "text": [
      "-12.50\n",
      "Некоректный формат!\n"
     ]
    }
   ],
   "source": [
    "import math\n",
    "\n",
    "func = lambda a: \"{} руб. {} коп.\".format(math.trunc(a), math.trunc((a - math.trunc(a)) * 100))\n",
    "\n",
    "amount = float(input())\n",
    "try:\n",
    "    result = 1/0 if amount < 0 else func(amount)\n",
    "    print(result)\n",
    "except ZeroDivisionError:\n",
    "        print(\"Некоректный формат!\")"
   ]
  },
  {
   "cell_type": "markdown",
   "metadata": {},
   "source": [
    "2. Написать скрипт, который выводит на экран «True», если элементы\n",
    "программно задаваемого списка представляют собой возрастающую\n",
    "последовательность, иначе – «False»"
   ]
  },
  {
   "cell_type": "code",
   "execution_count": 14,
   "metadata": {},
   "outputs": [
    {
     "name": "stdout",
     "output_type": "stream",
     "text": [
      "Введите проверяемый набор чисел через пробел: 1 2 4 3\n",
      "False\n"
     ]
    }
   ],
   "source": [
    "array = [i for i in input(\"Введите проверяемый набор чисел через пробел:\\n\").split(' ')]\n",
    "result = False not in [array[i] < array[i+1] for i in range(len(array)-1)]\n",
    "print(result)"
   ]
  },
  {
   "cell_type": "markdown",
   "metadata": {},
   "source": [
    "3. Напишите скрипт, который позволяет ввести с клавиатуры номер\n",
    "дебетовой карты (16 цифр) и выводит номер в скрытом виде: первые и\n",
    "последние 4 цифры отображены нормально, а между ними – символы\n",
    "«*» (например, 5123 **** **** 1212)."
   ]
  },
  {
   "cell_type": "code",
   "execution_count": 16,
   "metadata": {},
   "outputs": [
    {
     "name": "stdout",
     "output_type": "stream",
     "text": [
      "Введите номер: 1111111111111111\n",
      "1111 **** **** 1111\n"
     ]
    }
   ],
   "source": [
    "card_number = input(\"Введите номер:\\n\").replace(' ', '')\n",
    "print(card_number[0:4] + \" **** **** \" + card_number[12:16]) if len(card_number) == 16 else print(\"Неверно набранный номер.\")"
   ]
  },
  {
   "cell_type": "markdown",
   "metadata": {},
   "source": [
    "4. Напишите скрипт, который разделяет введенный с клавиатуры текст на\n",
    "слова и выводит сначала те слова, длина которых превосходит 7\n",
    "символов, затем слова размером от 4 до 7 символов, затем – все\n",
    "остальные"
   ]
  },
  {
   "cell_type": "code",
   "execution_count": 21,
   "metadata": {},
   "outputs": [
    {
     "name": "stdout",
     "output_type": "stream",
     "text": [
      "Введите текст:\n",
      "смсмсмсмсм\n",
      "['смсмсмсмсм']\n",
      "[]\n",
      "[]\n"
     ]
    }
   ],
   "source": [
    "array = input(\"Введите текст:\\n\").split(\" \")\n",
    "print([i for i in array if len(i) >7])\n",
    "print([i for i in array if 4 <= len(i) <= 7])\n",
    "print([i for i in array if len(i) < 4])"
   ]
  },
  {
   "cell_type": "markdown",
   "metadata": {},
   "source": [
    "5. Напишите скрипт, который позволяет ввести с клавиатуры текст\n",
    "предложения и сформировать новую строку на основе исходной, в\n",
    "которой все слова, начинающиеся с большой буквы, приведены к\n",
    "верхнему регистру. Слова могут разделяться запятыми или пробелами.\n",
    "Например, если пользователь введет строку «город Донецк, река\n",
    "Кальмиус», результирующая строка должна выглядеть так: «город\n",
    "ДОНЕЦК, река КАЛЬМИУС»."
   ]
  },
  {
   "cell_type": "code",
   "execution_count": 22,
   "metadata": {},
   "outputs": [
    {
     "name": "stdout",
     "output_type": "stream",
     "text": [
      "Введите текст:\n",
      "город Донецк, река Кальмиус\n",
      "город ДОНЕЦК, река КАЛЬМИУС\n"
     ]
    }
   ],
   "source": [
    "array = input(\"Введите текст:\\n\").split(\" \")\n",
    "print(' '.join(i.upper() if i[0].isupper() else i for i in array))"
   ]
  },
  {
   "cell_type": "markdown",
   "metadata": {},
   "source": [
    "6. Напишите программу, позволяющую ввести с клавиатуры текст\n",
    "предложения и вывести на консоль все символы, которые входят в этот\n",
    "текст ровно по одному разу"
   ]
  },
  {
   "cell_type": "code",
   "execution_count": 26,
   "metadata": {},
   "outputs": [
    {
     "name": "stdout",
     "output_type": "stream",
     "text": [
      "Введите текст:\n",
      "авбгд еежх в \n",
      "абгджх\n"
     ]
    }
   ],
   "source": [
    "array = list(input(\"Введите текст:\\n\"))\n",
    "print(''.join([i for i in array if array.count(i)==1]).replace(' ',''))"
   ]
  },
  {
   "cell_type": "markdown",
   "metadata": {},
   "source": [
    "7. Напишите скрипт, который обрабатывает список строк-адресов\n",
    "следующим образом: сначала определяет, начинается ли каждая строка\n",
    "в списке с префикса «www». Если условие выполняется, то скрипт\n",
    "должен вставить в начало этой строки префикс «http://», а затем\n",
    "проверить, что строка заканчивается на «.com». Если у строки другое\n",
    "окончание, то скрипт должен вставить в конец подстроку «.com». В\n",
    "итоге скрипт должен вывести на консоль новый список с измененными\n",
    "адресами. Используйте генераторы списков."
   ]
  },
  {
   "cell_type": "code",
   "execution_count": 31,
   "metadata": {},
   "outputs": [
    {
     "name": "stdout",
     "output_type": "stream",
     "text": [
      "http://www.github.com\thttp://www.vk.com\thttp://www.ww.ww.com\thttp://www.pikabu.ru.com\thttp://www.yandex.ru.com\n"
     ]
    }
   ],
   "source": [
    "array = [\"www.github.com\", \"www.vk.com\", \"www.ww.ww\", \"кремлин.рф\", \"www.pikabu.ru\", \"www.yandex.ru\"]\n",
    "print(\"\\t\".join(i + \".com\" if(\".com\" not in i) else i for i in [\"http://\" + i for i in array if(\"www.\" in i)]))"
   ]
  },
  {
   "cell_type": "markdown",
   "metadata": {},
   "source": [
    "8. Напишите скрипт, генерирующий случайным образом число n в\n",
    "диапазоне от 1 до 10000. Скрипт должен создать массив из n целых\n",
    "чисел, также сгенерированных случайным образом, и дополнить\n",
    "массив нулями до размера, равного ближайшей сверху степени двойки.\n",
    "Например, если в массиве было n=100 элементов, то массив нужно\n",
    "дополнить 28 нулями, чтобы в итоге был массив из 28=128 элементов\n",
    "(ближайшая степень двойки к 100 – это число 128, к 35 – это 64 и т.д.)."
   ]
  },
  {
   "cell_type": "code",
   "execution_count": 48,
   "metadata": {},
   "outputs": [
    {
     "name": "stdout",
     "output_type": "stream",
     "text": [
      "2893\n",
      "4096\n"
     ]
    }
   ],
   "source": [
    "import math\n",
    "import random\n",
    "\n",
    "array = [random.randint(0, 10000) for i in range(0,random.randint(0, 10000))]\n",
    "print(len(array))\n",
    "[array.append(random.randint(0, 10000)) for i in range(2**math.ceil(math.log2(len(array))) - len(array))]\n",
    "print(len(array))"
   ]
  },
  {
   "cell_type": "markdown",
   "metadata": {},
   "source": [
    "9. Напишите программу, имитирующую работу банкомата. Выберите\n",
    "структуру данных для хранения купюр разного достоинства в заданном\n",
    "количестве. При вводе пользователем запрашиваемой суммы денег,\n",
    "скрипт должен вывести на консоль количество купюр подходящего\n",
    "достоинства. Если имеющихся денег не хватает, то необходимо\n",
    "напечатать сообщение «Операция не может быть выполнена!».\n",
    "Например, при сумме 5370 рублей на консоль должно быть выведено\n",
    "«5*1000 + 3*100 + 1*50 + 2*10»."
   ]
  },
  {
   "cell_type": "code",
   "execution_count": 63,
   "metadata": {},
   "outputs": [
    {
     "name": "stdout",
     "output_type": "stream",
     "text": [
      "Введите требуемую сумму:\n",
      "1900\n",
      "10*1000 + 20*500 + 50*100 + 40*50 + 10*10\n"
     ]
    }
   ],
   "source": [
    "def gen(money, amount):\n",
    "    result = \"\"\n",
    "    for i in money:\n",
    "        if amount < i:\n",
    "            continue\n",
    "        banknote = amount // i\n",
    "        if banknote <= i:\n",
    "            amount -= banknote\n",
    "            result += \" {}*{} +\".format(money[i], i)\n",
    "        else:\n",
    "            baknote = money[i]\n",
    "            amount -= banknote\n",
    "            result += \" {}*{} +\".format(money[i], i)\n",
    "    return result\n",
    "\n",
    "money = {5000:1, 2000:1, 1000:10, 500:20, 100:50, 50:40, 10:10}\n",
    "amount = int(input(\"Введите требуемую сумму:\\n\"))\n",
    "overall = sum([i*money[i] for i in money])\n",
    "if overall < amount:\n",
    "    print(\"Денег в банкомате не хватит для операции.\")\n",
    "else:\n",
    "    res = gen(money, amount)\n",
    "    print(res[1:-2])"
   ]
  },
  {
   "cell_type": "markdown",
   "metadata": {},
   "source": [
    "10. Напишите скрипт, позволяющий определить надежность вводимого\n",
    "пользователем пароля. Это задание является творческим: алгоритм\n",
    "определения надежности разработайте самостоятельно."
   ]
  },
  {
   "cell_type": "code",
   "execution_count": 17,
   "metadata": {},
   "outputs": [
    {
     "name": "stdout",
     "output_type": "stream",
     "text": [
      "Введите пароль:\n",
      "sdS@2\n",
      "Ваш общий уровень безопасности: 4 из 5\n",
      "4\n",
      "Рекомендуется:\n",
      "-увеличить длину пароля\n",
      "\n"
     ]
    }
   ],
   "source": [
    "password = list(input(\"Введите пароль:\\n\"))\n",
    "level = 0\n",
    "alphabet_upper = \"АБВГДЕЁЖЗИЙКЛМНОПРСТУФХЦЧШЩЪЫЬЭЮЯABCDEFGHIJKLMNOPQRSTUVWXYZ\"\n",
    "alphabet_lower=alphabet_upper.lower()\n",
    "special = \"!@#$%^&*()_+|*/\"\n",
    "number = \"1234567890\"\n",
    "flag_upper = False\n",
    "flag_lower = False\n",
    "flag_spec = False\n",
    "flag_len = False\n",
    "flag_num = False\n",
    "if (len(password) >= 16):\n",
    "    flag_len = True\n",
    "for i in password:\n",
    "    if i in alphabet_upper:\n",
    "        flag_upper = True\n",
    "    if i in alphabet_lower:\n",
    "        flag_lower = True\n",
    "    if i in special:\n",
    "        flag_spec = True\n",
    "    if i in number:\n",
    "        flag_num = True\n",
    "level = int(flag_upper) + int(flag_lower) + int(flag_spec) + int(flag_len) + int(flag_num)\n",
    "print(\"Ваш общий уровень безопасности: \" + str(level) + \" из 5\")\n",
    "print(level)\n",
    "recomendations = \"Рекомендуется:\\n\" + \"-использовать прописные буквы\\n\"*int(not flag_upper) + \"-использовать строчные буквы\\n\"*int(not flag_lower) + \"-использовать специальные символы\\n\"*int(not flag_spec) + \"-использовать цифры\\n\"*int(not flag_num) + \"-увеличить длину пароля\\n\"*int(not flag_len)\n",
    "print(recomendations)"
   ]
  },
  {
   "cell_type": "markdown",
   "metadata": {},
   "source": [
    "11. Напишите генератор frange как аналог range() с дробным шагом."
   ]
  },
  {
   "cell_type": "code",
   "execution_count": 20,
   "metadata": {},
   "outputs": [
    {
     "name": "stdout",
     "output_type": "stream",
     "text": [
      "1\n",
      "1.1\n",
      "1.2\n",
      "1.3\n",
      "1.4\n",
      "1.5\n",
      "1.6\n",
      "1.7\n",
      "1.8\n",
      "1.9\n",
      "2.0\n",
      "2.1\n",
      "2.2\n",
      "2.3\n",
      "2.4\n",
      "2.5\n",
      "2.6\n",
      "2.7\n",
      "2.8\n",
      "2.9\n",
      "3.0\n",
      "3.1\n",
      "3.2\n",
      "3.3\n",
      "3.4\n",
      "3.5\n",
      "3.6\n",
      "3.7\n",
      "3.8\n",
      "3.9\n",
      "4.0\n",
      "4.1\n",
      "4.2\n",
      "4.3\n",
      "4.4\n",
      "4.5\n",
      "4.6\n",
      "4.7\n",
      "4.8\n",
      "4.9\n"
     ]
    }
   ],
   "source": [
    "def frange(start, stop, step):\n",
    "    i = start\n",
    "    if start > stop and step < 0:\n",
    "        start,stop = stop,start\n",
    "    while (step > 0 and i < stop) or (step < 0 and i <= stop and i > start):\n",
    "        yield i\n",
    "        i = round(i + step, 1)\n",
    "        \n",
    "for x in frange(1, 5, 0.1):\n",
    "    print(x)"
   ]
  },
  {
   "cell_type": "markdown",
   "metadata": {},
   "source": [
    "12. Напишите генератор get_frames(), который производит «оконную\n",
    "декомпозицию» сигнала: на основе входного списка генерирует набор\n",
    "списков – перекрывающихся отдельных фрагментов сигнала размера\n",
    "size со степенью перекрытия overlap. "
   ]
  },
  {
   "cell_type": "code",
   "execution_count": 22,
   "metadata": {},
   "outputs": [
    {
     "name": "stdout",
     "output_type": "stream",
     "text": [
      "[1, 2, 3, 4]\n",
      "[3, 4, 5, 6]\n",
      "[5, 6, 7, 8]\n",
      "[7, 8, 9]\n"
     ]
    },
    {
     "data": {
      "text/plain": [
       "[None, None, None, None]"
      ]
     },
     "execution_count": 22,
     "metadata": {},
     "output_type": "execute_result"
    }
   ],
   "source": [
    "def get_frames(signal, size=4, overlap=0.5):\n",
    "    for i in range(0, len(signal) - 1, int(size * overlap)):\n",
    "        yield [x for x in signal[i : i + size] ]\n",
    "\n",
    "[print(i) for i in get_frames(range(1,10),4,0.5)]"
   ]
  },
  {
   "cell_type": "markdown",
   "metadata": {},
   "source": [
    "13. Напишите собственную версию генератора enumerate под названием\n",
    "extra_enumerate. "
   ]
  },
  {
   "cell_type": "code",
   "execution_count": 13,
   "metadata": {},
   "outputs": [
    {
     "name": "stdout",
     "output_type": "stream",
     "text": [
      "0 .  2 20 2\n",
      "1 .  4 20 6\n",
      "2 .  6 20 12\n",
      "3 .  8 20 20\n"
     ]
    },
    {
     "data": {
      "text/plain": [
       "[None, None, None, None]"
      ]
     },
     "execution_count": 13,
     "metadata": {},
     "output_type": "execute_result"
    }
   ],
   "source": [
    "import itertools\n",
    "import numpy as np\n",
    "\n",
    "def extra_enumerate(x):\n",
    "    sum = np.sum(x)\n",
    "    for i in range(len(x)):\n",
    "        res = list(itertools.accumulate(x))[i]\n",
    "        yield i,x[i], sum, res\n",
    "        \n",
    "[print(i, '. ', elem, summ, res) for i, elem, summ, res in extra_enumerate([2,4,6,8])]"
   ]
  },
  {
   "cell_type": "markdown",
   "metadata": {},
   "source": [
    "14. Напишите декоратор non_empty, который дополнительно проверяет\n",
    "списковый результат любой функции: если в нем содержатся пустые\n",
    "строки или значение None, то они удаляются. "
   ]
  },
  {
   "cell_type": "code",
   "execution_count": 4,
   "metadata": {},
   "outputs": [
    {
     "name": "stdout",
     "output_type": "stream",
     "text": [
      "['oh, well', 'whatever', 'random stuff']\n"
     ]
    }
   ],
   "source": [
    "def non_empty(fn):\n",
    "    def wrapper():\n",
    "        return[i for i in fn() if i != '' and i != None]\n",
    "    return wrapper\n",
    "\n",
    "@non_empty\n",
    "def get_pages():\n",
    "    return ['oh, well', '', 'whatever', '', 'random stuff']\n",
    "\n",
    "print(get_pages())"
   ]
  },
  {
   "cell_type": "markdown",
   "metadata": {},
   "source": [
    "15. Напишите параметризированный декоратор pre_process, который\n",
    "осуществляет предварительную обработку (цифровую фильтрацию)\n",
    "списка по алгоритму: s[i] = s[i]–a∙s[i–1]. Параметр а можно задать в\n",
    "коде (по умолчанию равен 0.97). "
   ]
  },
  {
   "cell_type": "code",
   "execution_count": 16,
   "metadata": {},
   "outputs": [
    {
     "name": "stdout",
     "output_type": "stream",
     "text": [
      "-7.2\n",
      "1.0\n",
      "1.2\n",
      "1.4\n",
      "1.5999999999999996\n",
      "1.7999999999999998\n",
      "2.0\n",
      "2.1999999999999993\n",
      "2.3999999999999995\n",
      "2.5999999999999996\n"
     ]
    }
   ],
   "source": [
    "def pre_process(a=0.97):\n",
    "    def decorator(fn):\n",
    "        def wrapper(s):\n",
    "            return  fn([i-a*s[s.index(i)-1] for i in s])\n",
    "        return wrapper\n",
    "    return decorator\n",
    "\n",
    "@pre_process(a=0.8)\n",
    "def plot_signal(s):\n",
    "    for sample in s:\n",
    "        print(sample)\n",
    "    \n",
    "plot_signal([i for i in range(10)])"
   ]
  },
  {
   "cell_type": "markdown",
   "metadata": {},
   "source": [
    "16. Напишите скрипт, который на основе списка из 16 названий\n",
    "футбольных команд случайным образом формирует 4 группы по 4\n",
    "команды, а также выводит на консоль календарь всех игр (игры\n",
    "должны проходить по средам, раз в 2 недели, начиная с 14 сентября\n",
    "текущего года). Даты игр необходимо выводить в формате «14/09/2016,\n",
    "22:45». Используйте модули random и itertools."
   ]
  },
  {
   "cell_type": "code",
   "execution_count": 18,
   "metadata": {},
   "outputs": [
    {
     "name": "stdout",
     "output_type": "stream",
     "text": [
      "Группа № 1 ['Непал', 'Индия', 'Корея', 'Бангладеш']\n",
      "Группа № 2 ['Сингапур', 'Шри-Ланка', 'Китайская Народная Республика', 'Камбоджа']\n",
      "Группа № 3 ['Мьянма', 'Бутан', 'Тайвань (Китайская Республика)', 'Малайзия']\n",
      "Группа № 4 ['Таиланд', 'Япония', 'Лаос', 'Вьетнам']\n",
      "\n",
      "\n",
      "Игра # 1 ('Непал', 'Индия') 14/09/2020 22:45\n",
      "Игра # 2 ('Непал', 'Корея') 28/09/2020 22:45\n",
      "Игра # 3 ('Непал', 'Бангладеш') 12/10/2020 22:45\n",
      "Игра # 4 ('Индия', 'Корея') 26/10/2020 22:45\n",
      "Игра # 5 ('Индия', 'Бангладеш') 09/11/2020 22:45\n",
      "Игра # 6 ('Корея', 'Бангладеш') 23/11/2020 22:45\n",
      "Игра # 7 ('Сингапур', 'Шри-Ланка') 07/12/2020 22:45\n",
      "Игра # 8 ('Сингапур', 'Китайская Народная Республика') 21/12/2020 22:45\n",
      "Игра # 9 ('Сингапур', 'Камбоджа') 04/01/2021 22:45\n",
      "Игра # 10 ('Шри-Ланка', 'Китайская Народная Республика') 18/01/2021 22:45\n",
      "Игра # 11 ('Шри-Ланка', 'Камбоджа') 01/02/2021 22:45\n",
      "Игра # 12 ('Китайская Народная Республика', 'Камбоджа') 15/02/2021 22:45\n",
      "Игра # 13 ('Мьянма', 'Бутан') 01/03/2021 22:45\n",
      "Игра # 14 ('Мьянма', 'Тайвань (Китайская Республика)') 15/03/2021 22:45\n",
      "Игра # 15 ('Мьянма', 'Малайзия') 29/03/2021 22:45\n",
      "Игра # 16 ('Бутан', 'Тайвань (Китайская Республика)') 12/04/2021 22:45\n",
      "Игра # 17 ('Бутан', 'Малайзия') 26/04/2021 22:45\n",
      "Игра # 18 ('Тайвань (Китайская Республика)', 'Малайзия') 10/05/2021 22:45\n",
      "Игра # 19 ('Таиланд', 'Япония') 24/05/2021 22:45\n",
      "Игра # 20 ('Таиланд', 'Лаос') 07/06/2021 22:45\n",
      "Игра # 21 ('Таиланд', 'Вьетнам') 21/06/2021 22:45\n",
      "Игра # 22 ('Япония', 'Лаос') 05/07/2021 22:45\n",
      "Игра # 23 ('Япония', 'Вьетнам') 19/07/2021 22:45\n",
      "Игра # 24 ('Лаос', 'Вьетнам') 02/08/2021 22:45\n"
     ]
    }
   ],
   "source": [
    "import datetime\n",
    "import random\n",
    "import itertools\n",
    "\n",
    "this_moment = datetime.datetime.now()\n",
    "start_moment = datetime.datetime(this_moment.year,9,14,22,45)\n",
    "team_list = [\"Китайская Народная Республика\", \"Тайвань (Китайская Республика)\", \"Корея\", \"Япония\",\n",
    "             \"Индия\", \"Шри-Ланка\", \"Непал\", \"Бутан\",\n",
    "             \"Бангладеш\", \"Камбоджа\", \"Таиланд\", \"Вьетнам\",\n",
    "             \"Мьянма\", \"Малайзия\", \"Лаос\", \"Сингапур\"]\n",
    "random.shuffle(team_list)\n",
    "team_split = [[0 for j in range(4)] for i in range(4)]\n",
    "for i in range(0,4):\n",
    "    team_split[i] = team_list[4*i:4*i+4]\n",
    "[print(\"Группа №\",i+1,team_split[i]) for i in range(0,4)]\n",
    "print(\"\\n\")\n",
    "match_list = [[0 for j in range(4)] for i in range(6)]\n",
    "for i in range(4):\n",
    "    match_list[i] = [j for j in itertools.combinations(team_split[i], 2)]\n",
    "for i in range(1,25):\n",
    "    print (\"Игра #\",i, match_list[(i - 1) // 6][(i - 1) % 6], start_moment.strftime(\"%d/%m/%Y %H:%M\"))\n",
    "    start_moment += datetime.timedelta(days=14)"
   ]
  },
  {
   "cell_type": "code",
   "execution_count": null,
   "metadata": {},
   "outputs": [],
   "source": []
  }
 ],
 "metadata": {
  "kernelspec": {
   "display_name": "Python 3",
   "language": "python",
   "name": "python3"
  },
  "language_info": {
   "codemirror_mode": {
    "name": "ipython",
    "version": 3
   },
   "file_extension": ".py",
   "mimetype": "text/x-python",
   "name": "python",
   "nbconvert_exporter": "python",
   "pygments_lexer": "ipython3",
   "version": "3.7.6"
  }
 },
 "nbformat": 4,
 "nbformat_minor": 2
}
