{
 "cells": [
  {
   "cell_type": "code",
   "execution_count": 22,
   "metadata": {},
   "outputs": [],
   "source": [
    "import codecs\n",
    "import os\n",
    "import subprocess \n",
    "import re \n",
    "import time\n",
    "import random\n",
    "import datetime\n",
    "import sys\n",
    "from hashlib import md5"
   ]
  },
  {
   "cell_type": "markdown",
   "metadata": {},
   "source": [
    "1. Напишите скрипт, который читает текстовый файл и выводит символы\n",
    "в порядке убывания частоты встречаемости в тексте. Регистр символа\n",
    "не имеет значения. Программа должна учитывать только буквенные\n",
    "символы (символы пунктуации, цифры и служебные символы слудет\n",
    "игнорировать). Проверьте работу скрипта на нескольких файлах с\n",
    "текстом на английском и русском языках, сравните результаты с\n",
    "таблицами, приведенными в wikipedia.org/wiki/Letter_frequencies."
   ]
  },
  {
   "cell_type": "code",
   "execution_count": 9,
   "metadata": {},
   "outputs": [
    {
     "name": "stdout",
     "output_type": "stream",
     "text": [
      "О - 5.75 %\n",
      "Н - 4.62 %\n",
      "Е - 4.53 %\n",
      "А - 3.84 %\n",
      "И - 3.41 %\n",
      "В - 3.09 %\n",
      "Т - 2.91 %\n",
      "С - 2.84 %\n",
      "Л - 2.38 %\n",
      "Р - 2.25 %\n",
      "Д - 1.97 %\n",
      "П - 1.94 %\n",
      "Й - 1.62 %\n",
      "М - 1.62 %\n",
      "Ы - 1.62 %\n",
      "У - 1.5 %\n",
      "К - 1.31 %\n",
      "Г - 1.0 %\n",
      "З - 0.91 %\n",
      "Ь - 0.91 %\n",
      "Ч - 0.78 %\n",
      "Я - 0.78 %\n",
      "Ж - 0.75 %\n",
      "Б - 0.72 %\n",
      "Х - 0.53 %\n",
      "Ю - 0.5 %\n",
      "Ш - 0.38 %\n",
      "Ц - 0.28 %\n",
      "Э - 0.16 %\n",
      "Щ - 0.09 %\n",
      "Ф - 0.0 %\n",
      "Ъ - 0.0 %\n",
      "A - 0.0 %\n",
      "B - 0.0 %\n",
      "C - 0.0 %\n",
      "D - 0.0 %\n",
      "E - 0.0 %\n",
      "F - 0.0 %\n",
      "G - 0.0 %\n",
      "H - 0.0 %\n",
      "I - 0.0 %\n",
      "J - 0.0 %\n",
      "K - 0.0 %\n",
      "L - 0.0 %\n",
      "M - 0.0 %\n",
      "N - 0.0 %\n",
      "O - 0.0 %\n",
      "P - 0.0 %\n",
      "Q - 0.0 %\n",
      "R - 0.0 %\n",
      "S - 0.0 %\n",
      "T - 0.0 %\n",
      "U - 0.0 %\n",
      "V - 0.0 %\n",
      "W - 0.0 %\n",
      "X - 0.0 %\n",
      "Y - 0.0 %\n",
      "Z - 0.0 %\n"
     ]
    }
   ],
   "source": [
    "alphabet_eng = ''.join([chr(i) for i in range(ord('A'),ord('Z')+1)])\n",
    "alphabet_rus = ''.join([chr(i) for i in range(ord('А'),ord('Я')+1)])\n",
    "\n",
    "with codecs.open(\"task1.txt\", \"r\", \"utf_8_sig\") as file:\n",
    "    text = file.read().upper()\n",
    "    dtext = {i:text.count(i) for i in alphabet_rus}\n",
    "    [print(i[0],\"-\",round(i[1]/len(dtext),2),\"%\") for i in sorted(dtext.items(),key = lambda i: i[1],reverse=True)]\n",
    "    dtext = {i:text.count(i) for i in alphabet_eng}\n",
    "    [print(i[0],\"-\",round(i[1]/len(dtext),2),\"%\") for i in sorted(dtext.items(),key = lambda i: i[1],reverse=True)]"
   ]
  },
  {
   "cell_type": "markdown",
   "metadata": {},
   "source": [
    "2. Напишите скрипт, позволяющий искать в заданной директории и в ее\n",
    "подпапках файлы-дубликаты на основе сравнения контрольных сумм\n",
    "(MD5). Файлы могут иметь одинаковое содержимое, но отличаться\n",
    "именами. Скрипт должен вывести группы имен обнаруженных файлов-дубликатов."
   ]
  },
  {
   "cell_type": "code",
   "execution_count": 21,
   "metadata": {},
   "outputs": [
    {
     "name": "stdout",
     "output_type": "stream",
     "text": [
      "Введите путь к папке:task2\n",
      "['task2\\\\task2-2.txt', 'task2\\\\54\\\\66\\\\task2-2.txt']\n",
      "['task2\\\\23\\\\task2-566.txt', 'task2\\\\54\\\\task2-2332.txt', 'task2\\\\54\\\\66\\\\task2-786.txt']\n"
     ]
    }
   ],
   "source": [
    "inp = input(\"Введите путь к папке:\")\n",
    "duplicate = {}\n",
    "for dirs, _, files in os.walk(inp):\n",
    "    for name in files:\n",
    "        file = os.path.join(dirs, name)\n",
    "        try:\n",
    "            duplicate[md5(open(file, 'rb').read()).hexdigest()].append(file)\n",
    "        except KeyError:\n",
    "            duplicate[md5(open(file, 'rb').read()).hexdigest()] = [file,]\n",
    "\n",
    "duplicate = {k : duplicate[k] for k in duplicate.keys() if len(duplicate[k])>1}\n",
    "\n",
    "for k in duplicate.values():\n",
    "    print(k)"
   ]
  },
  {
   "cell_type": "markdown",
   "metadata": {},
   "source": [
    "3. Задан путь к директории с музыкальными файлами (в названии\n",
    "которых нет номеров, а только названия песен) и текстовый файл,\n",
    "хранящий полный список песен с номерами и названиями в виде строк\n",
    "формата «01. Freefall [6:12]». Напишите скрипт, который корректирует\n",
    "имена файлов в директории на основе текста списка песен"
   ]
  },
  {
   "cell_type": "code",
   "execution_count": 27,
   "metadata": {},
   "outputs": [
    {
     "name": "stdout",
     "output_type": "stream",
     "text": [
      "['01. Avenged Sevenfold - Welcome To The Family [04.05].mp3', '02. Poets of the Fall - Carnival of Rust [04.19].mp3', '03. Powerwolf - In The Name Of God (Deus Vult) [03.15].mp3', '04. Powerwolf - Sanctified With Dynamite [04.25].mp3', '05. Sabaton - Panzerkampf [05.15].mp3', '06. Sabaton - Winged Hussars [03.53].mp3', '07. Seether feat. Amy Lee - Broken [04.19].mp3', '08. Skillet - Comatose [03.50].mp3', '09. Turisas - End Of An Empire [07.16].mp3', '10. Turisas - The Bosphorus Freezes Over [05.37].mp3']\n"
     ]
    }
   ],
   "source": [
    "def define_time(filename):\n",
    "    stdout, stderr = subprocess.Popen(['ffmpeg', '-i', filename], stdout=subprocess.PIPE, \n",
    "                                      stderr=subprocess.STDOUT).communicate()\n",
    "    matches = re.search(r\"Duration:\\s{1}(?P<hours>\\d+?):(?P<minutes>\\d+?):(?P<seconds>\\d+)\", \n",
    "                        str(stdout), re.DOTALL).groupdict() \n",
    "    return '{}.{}'.format(matches['minutes'],matches['seconds'])\n",
    "\n",
    "default_path = 'D:\\\\TestMusic'\n",
    "#Генерируем текстовый файл из списка песен по заданию\n",
    "file_list = os.walk(default_path).__next__()[2]\n",
    "music_list = ['{:02}. {} [{}]{}'.format(i+1,mus[:mus.rindex('.')],define_time(os.path.join(default_path,mus)),\n",
    "                                       mus[mus.rindex('.'):]) for i,mus in enumerate(file_list)]\n",
    "with open('task3.txt','w',encoding = 'utf-8') as music:\n",
    "    music.write('\\n'.join(music_list))\n",
    "#Переименовываем песни по записям списка\n",
    "with open('task3.txt','r',encoding = 'utf-8') as mus:\n",
    "    music_list = mus.read().split('\\n')\n",
    "[os.rename(os.path.join(default_path,f),os.path.join(default_path,m)) \n",
    " for m in music_list for f in os.walk(default_path).__next__()[2] if f.lower()[:f.rindex('.')] in m.lower()]\n",
    "print(os.walk(default_path).__next__()[2])"
   ]
  },
  {
   "cell_type": "markdown",
   "metadata": {},
   "source": [
    "4. Напишите скрипт, который позволяет ввести с клавиатуры имя\n",
    "текстового файла, найти в нем с помощью регулярных выражений все\n",
    "подстроки определенного вида, в соответствии с вариантом. Например,\n",
    "для варианта № 1 скрипт должен вывести на экран следующее:\n",
    "Строка 3, позиция 10 : найдено '11-05-2014'\n",
    "Строка 12, позиция 2 : найдено '23-11-2014'\n",
    "Строка 12, позиция 17 : найдено '23-11-2014'\n",
    "\n",
    "Вариант 2: найдите все значения времени – подстроки вида «23:15:59»"
   ]
  },
  {
   "cell_type": "code",
   "execution_count": 36,
   "metadata": {},
   "outputs": [
    {
     "name": "stdout",
     "output_type": "stream",
     "text": [
      "Введите имя файла:task4.txt\n",
      "['s 23:15:59', '23-11-2014', '23-05-2020', 'str04 04:04:04', '05-05-2020', '03:20:50 20:03:50 21:04:51', 'script', 'regular expressions 20:20:20', 'str09 05:01:09', 'will it find 21:12:21 or 12:21:12', '10:10:10']\n",
      "Строка 0, позиция 2 : найдено '23:15:59'\n",
      "Строка 3, позиция 6 : найдено '04:04:04'\n",
      "Строка 5, позиция 0 : найдено '03:20:50'\n",
      "Строка 5, позиция 9 : найдено '20:03:50'\n",
      "Строка 5, позиция 18 : найдено '21:04:51'\n",
      "Строка 7, позиция 20 : найдено '20:20:20'\n",
      "Строка 8, позиция 6 : найдено '05:01:09'\n",
      "Строка 9, позиция 13 : найдено '21:12:21'\n",
      "Строка 9, позиция 25 : найдено '12:21:12'\n",
      "Строка 10, позиция 0 : найдено '10:10:10'\n"
     ]
    }
   ],
   "source": [
    "inp = input(\"Введите имя файла:\")\n",
    "with open(inp,'r') as f:\n",
    "    text = f.read().split('\\n')\n",
    "print(text)\n",
    "\n",
    "found_words = [\"Строка {}, позиция {} : найдено '{}'\".format(j, m.start(), m.group(0)) for j,t in enumerate(text) \n",
    "        for m in re.finditer(r\"(([0-1]\\d|[2][0-3]):([0-5]\\d):([0-5]\\d))\", t) ]\n",
    "for string in found_words:\n",
    "    print(string)"
   ]
  },
  {
   "cell_type": "markdown",
   "metadata": {},
   "source": [
    "5. Введите с клавиатуры текст. Программно найдите в нем и выведите\n",
    "отдельно все слова, которые начинаются с большого латинского\n",
    "символа (от A до Z) и заканчиваются 2 или 4 цифрами, например\n",
    "«Petr93», «Johnny70», «Service2002». Используйте регулярные\n",
    "выражения."
   ]
  },
  {
   "cell_type": "code",
   "execution_count": 32,
   "metadata": {},
   "outputs": [
    {
     "name": "stdout",
     "output_type": "stream",
     "text": [
      "Введите текст : «Petr93», «Johnny70», «Service2002»\n",
      "Petr93\n",
      "Johnny70\n",
      "Service2002\n"
     ]
    }
   ],
   "source": [
    "inp = input('Введите текст : ')\n",
    "found_words = re.findall(r'([A-Z][a-zA-Z]*(?:\\d{2}|\\d{4}))(?:\\s|\\b|$)',inp)\n",
    "for string in found_words:\n",
    "    print(string)"
   ]
  },
  {
   "cell_type": "markdown",
   "metadata": {},
   "source": [
    "6. Напишите скрипт `reorganize.py`, который в директории `--source` создает две директории: Archive и Small. В первую директорию помещаются файлы с датой изменения, отличающейся от текущей даты на количество дней более параметра `--days` (т.е. относительно старые файлы). Во вторую – все файлы размером меньше параметра `--size` байт.\n",
    "\n",
    "Каждая директория должна создаваться только в случае, если найден хотя бы один файл, который должен быть в нее помещен.\n",
    "Пример вызова:\n",
    "```\n",
    "reorganize --source \"C:\\TestDir\" --days 2 --size 4096```"
   ]
  },
  {
   "cell_type": "code",
   "execution_count": 44,
   "metadata": {},
   "outputs": [
    {
     "name": "stdout",
     "output_type": "stream",
     "text": [
      "08. Skillet - Comatose [03.50].mp3 Date: 2014-06-14 10:48:00 Size: 9237959b Days difference: 2169\r\n",
      "09. Turisas - End Of An Empire [07.16].mp3 Date: 2020-05-23 02:07:21.237832 Size: 17555328b Days difference: 0\r\n",
      "10. Turisas - The Bosphorus Freezes Over [05.37].mp3 Date: 2020-05-23 02:07:21.237832 Size: 13590400b Days difference: 0\r\n",
      "reorganize.py Date: 2020-05-23 06:26:55.014826 Size: 2326b Days difference: 0\r\n",
      "task1.txt Date: 2020-05-22 18:22:46.361928 Size: 4452b Days difference: 0\r\n",
      "task3.txt Date: 2020-05-23 02:20:12.520820 Size: 488b Days difference: 0\r\n",
      "task4.txt Date: 2020-05-23 02:39:16.120871 Size: 189b Days difference: 0\r\n",
      "trackmix.py Date: 2020-05-23 05:37:49.590505 Size: 3320b Days difference: 0\r\n",
      "Files ['08. Skillet - Comatose [03.50].mp3'] shall be moved to ..\\Archive\\\r\n",
      "Files ['reorganize.py', 'task3.txt', 'task4.txt', 'trackmix.py'] shall be moved to ..\\Small\\\r\n",
      "Files ['reorganize.py', 'task3.txt', 'task4.txt', 'trackmix.py', '08. Skillet - Comatose [03.50].mp3'] shall be deleted from D:\\Test\r\n",
      "Files were deleted successfully.\r\n",
      "Files were reorganized successfully.\r\n",
      "\n"
     ]
    }
   ],
   "source": [
    "cmd = [sys.executable,'reorganize.py', '--source', \"D:\\Test\", '--days','2', '--size','4096']\n",
    "output = subprocess.check_output(cmd).decode('cp866')\n",
    "print(output)"
   ]
  },
  {
   "cell_type": "markdown",
   "metadata": {},
   "source": [
    "7. Написать скрипт trackmix.py, который формирует обзорный трек-микс\n",
    "альбома (попурри из коротких фрагментов mp3-файлов в\n",
    "пользовательской директории). Для манипуляций со звуковыми\n",
    "файлами можно использовать сторонние утилиты, например, FFmpeg\n",
    "Пример вызова и работы скрипта:\n",
    "```\n",
    "trackmix --source \"C:\\Muz\\Album\" --count 5 --frame 15 -l -e\n",
    "--- processing file 1: 01 - Intro.mp3\n",
    "--- processing file 2: 02 - Outro.mp3\n",
    "--- done!\n",
    "```\n",
    "\n",
    "Параметры скрипта:\n",
    "- `--source` (`-s`) – имя рабочей директории с треками, обязателен;\n",
    "- `--destination` (`-d`) – имя выходного файла, необязателен (если не указан, то имя выходного файла – mix.mp3 в директории source);\n",
    "- `--count` (`-c`) – количество файлов в \"нарезке\", необязателен (если он не указан, то перебираются все mp3-файлы в директории source);\n",
    "- `--frame` (`-f`) – количество секунд на каждый файл, необязателен (если не указан, скрипт вырезает по 10 секунд из произвольного участка каждого файла);\n",
    "- `--log` (`-l`) – необязательный ключ (если этот ключ указывается, то скрипт должен выводить на консоль лог процесса обработки файлов, как в примере);\n",
    "- `--extended` (`-e`) – необязательный ключ (если этот ключ указывается, то каждый фрагмент попурри начинается и завершается небольшим `fade in/fade out`)"
   ]
  },
  {
   "cell_type": "code",
   "execution_count": 41,
   "metadata": {},
   "outputs": [
    {
     "name": "stdout",
     "output_type": "stream",
     "text": [
      "--- processing file 1: 01. Avenged Sevenfold - Welcome To The Family [04.05].mp3\r\n",
      "--- processing file 2: 02. Poets of the Fall - Carnival of Rust [04.19].mp3\r\n",
      "--- processing file 3: 03. Powerwolf - In The Name Of God (Deus Vult) [03.15].mp3\r\n",
      "--- processing file 4: 04. Powerwolf - Sanctified With Dynamite [04.25].mp3\r\n",
      "--- processing file 5: 05. Sabaton - Panzerkampf [05.15].mp3\r\n",
      "--- processing file 6: 06. Sabaton - Winged Hussars [03.53].mp3\r\n",
      "--- processing file 7: 07. Seether feat. Amy Lee - Broken [04.19].mp3\r\n",
      "--- processing file 8: 08. Skillet - Comatose [03.50].mp3\r\n",
      "--- processing file 9: 09. Turisas - End Of An Empire [07.16].mp3\r\n",
      "--- processing file 10: 10. Turisas - The Bosphorus Freezes Over [05.37].mp3\r\n",
      "--- merging the fragments together...\r\n",
      "--- deleting temporary files...\r\n",
      "--- done\r\n",
      "\n"
     ]
    }
   ],
   "source": [
    "cmd = [sys.executable,'trackmix.py','-s',r'D:\\TestMusic','-d','mix.mp3', '-l','-e']\n",
    "output = subprocess.check_output(cmd).decode('cp866')\n",
    "print(output)"
   ]
  },
  {
   "cell_type": "code",
   "execution_count": null,
   "metadata": {},
   "outputs": [],
   "source": []
  }
 ],
 "metadata": {
  "kernelspec": {
   "display_name": "Python 3",
   "language": "python",
   "name": "python3"
  },
  "language_info": {
   "codemirror_mode": {
    "name": "ipython",
    "version": 3
   },
   "file_extension": ".py",
   "mimetype": "text/x-python",
   "name": "python",
   "nbconvert_exporter": "python",
   "pygments_lexer": "ipython3",
   "version": "3.7.6"
  }
 },
 "nbformat": 4,
 "nbformat_minor": 4
}
